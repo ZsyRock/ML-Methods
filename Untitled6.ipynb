{
 "cells": [
  {
   "cell_type": "code",
   "execution_count": 5,
   "id": "b9774850",
   "metadata": {},
   "outputs": [
    {
     "name": "stdout",
     "output_type": "stream",
     "text": [
      "True\n",
      "4\n",
      "NVIDIA L4\n"
     ]
    }
   ],
   "source": [
    "import torch\n",
    "print(torch.cuda.is_available())\n",
    "print(torch.cuda.device_count())\n",
    "print(torch.cuda.get_device_name(0))\n"
   ]
  },
  {
   "cell_type": "code",
   "execution_count": 6,
   "id": "cce28c9e",
   "metadata": {},
   "outputs": [
    {
     "name": "stdout",
     "output_type": "stream",
     "text": [
      "Using device: cuda\n",
      "Epoch [1/10], Loss: 2.3115\n",
      "Epoch [2/10], Loss: 2.3528\n",
      "Epoch [3/10], Loss: 2.2938\n",
      "Epoch [4/10], Loss: 2.2865\n",
      "Epoch [5/10], Loss: 2.2849\n",
      "Epoch [6/10], Loss: 2.2783\n",
      "Epoch [7/10], Loss: 2.2700\n",
      "Epoch [8/10], Loss: 2.2586\n",
      "Epoch [9/10], Loss: 2.2428\n",
      "Epoch [10/10], Loss: 2.2245\n",
      "Training completed in 0.06 seconds.\n"
     ]
    }
   ],
   "source": [
    "import torch\n",
    "import torch.nn as nn\n",
    "import torch.optim as optim\n",
    "import time\n",
    "\n",
    "# 确保使用 GPU\n",
    "device = torch.device(\"cuda\" if torch.cuda.is_available() else \"cpu\")\n",
    "print(f\"Using device: {device}\")\n",
    "\n",
    "# 定义一个简单的 CNN 模型\n",
    "class SimpleCNN(nn.Module):\n",
    "    def __init__(self):\n",
    "        super(SimpleCNN, self).__init__()\n",
    "        self.conv1 = nn.Conv2d(1, 32, kernel_size=3, padding=1)\n",
    "        self.conv2 = nn.Conv2d(32, 64, kernel_size=3, padding=1)\n",
    "        self.fc1 = nn.Linear(64 * 7 * 7, 128)\n",
    "        self.fc2 = nn.Linear(128, 10)\n",
    "        self.relu = nn.ReLU()\n",
    "        self.maxpool = nn.MaxPool2d(2)\n",
    "\n",
    "    def forward(self, x):\n",
    "        x = self.relu(self.conv1(x))\n",
    "        x = self.maxpool(x)\n",
    "        x = self.relu(self.conv2(x))\n",
    "        x = self.maxpool(x)\n",
    "        x = x.view(x.size(0), -1)\n",
    "        x = self.relu(self.fc1(x))\n",
    "        x = self.fc2(x)\n",
    "        return x\n",
    "\n",
    "# 初始化模型、损失函数、优化器\n",
    "model = SimpleCNN().to(device)\n",
    "criterion = nn.CrossEntropyLoss()\n",
    "optimizer = optim.Adam(model.parameters(), lr=0.001)\n",
    "\n",
    "# 创建随机数据模拟 MNIST 图片\n",
    "x_train = torch.randn(512, 1, 28, 28, device=device)  # 512张 28x28 的单通道图片\n",
    "y_train = torch.randint(0, 10, (512,), device=device) # 随机 0-9 之间的标签\n",
    "\n",
    "# 训练 10 轮\n",
    "start_time = time.time()\n",
    "for epoch in range(10):\n",
    "    optimizer.zero_grad()\n",
    "    outputs = model(x_train)\n",
    "    loss = criterion(outputs, y_train)\n",
    "    loss.backward()\n",
    "    optimizer.step()\n",
    "\n",
    "    print(f\"Epoch [{epoch+1}/10], Loss: {loss.item():.4f}\")\n",
    "\n",
    "end_time = time.time()\n",
    "print(f\"Training completed in {end_time - start_time:.2f} seconds.\")\n"
   ]
  },
  {
   "cell_type": "code",
   "execution_count": 7,
   "id": "14a0be57",
   "metadata": {},
   "outputs": [
    {
     "name": "stdout",
     "output_type": "stream",
     "text": [
      "CPU computation time: 4.9254 seconds\n",
      "GPU computation time: 0.0999 seconds\n"
     ]
    }
   ],
   "source": [
    "import torch\n",
    "import time\n",
    "\n",
    "# 选择设备\n",
    "device_cpu = torch.device(\"cpu\")\n",
    "device_gpu = torch.device(\"cuda\" if torch.cuda.is_available() else \"cpu\")\n",
    "\n",
    "# 生成随机矩阵\n",
    "size = 5000\n",
    "x_cpu = torch.randn(size, size, device=device_cpu)\n",
    "y_cpu = torch.randn(size, size, device=device_cpu)\n",
    "\n",
    "x_gpu = torch.randn(size, size, device=device_gpu)\n",
    "y_gpu = torch.randn(size, size, device=device_gpu)\n",
    "\n",
    "# CPU 计算\n",
    "start_cpu = time.time()\n",
    "result_cpu = torch.matmul(x_cpu, y_cpu)\n",
    "end_cpu = time.time()\n",
    "print(f\"CPU computation time: {end_cpu - start_cpu:.4f} seconds\")\n",
    "\n",
    "# GPU 计算\n",
    "start_gpu = time.time()\n",
    "result_gpu = torch.matmul(x_gpu, y_gpu)\n",
    "torch.cuda.synchronize()  # 确保 GPU 计算完成\n",
    "end_gpu = time.time()\n",
    "print(f\"GPU computation time: {end_gpu - start_gpu:.4f} seconds\")\n"
   ]
  },
  {
   "cell_type": "code",
   "execution_count": 4,
   "id": "ac1e62b3",
   "metadata": {},
   "outputs": [
    {
     "name": "stdout",
     "output_type": "stream",
     "text": [
      "1\n"
     ]
    }
   ],
   "source": [
    "print(\"1\")"
   ]
  },
  {
   "cell_type": "code",
   "execution_count": null,
   "id": "03f6ab2d",
   "metadata": {},
   "outputs": [],
   "source": []
  }
 ],
 "metadata": {
  "kernelspec": {
   "display_name": "Python (shuyanenv)",
   "language": "python",
   "name": "shuyanenv"
  },
  "language_info": {
   "codemirror_mode": {
    "name": "ipython",
    "version": 3
   },
   "file_extension": ".py",
   "mimetype": "text/x-python",
   "name": "python",
   "nbconvert_exporter": "python",
   "pygments_lexer": "ipython3",
   "version": "3.9.21"
  }
 },
 "nbformat": 4,
 "nbformat_minor": 5
}
